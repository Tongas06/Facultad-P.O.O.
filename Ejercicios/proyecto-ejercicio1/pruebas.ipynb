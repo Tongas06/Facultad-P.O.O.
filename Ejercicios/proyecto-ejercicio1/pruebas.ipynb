{
 "cells": [
  {
   "cell_type": "code",
   "execution_count": 1,
   "id": "6b59c980-383d-4a12-8784-4b6bf995288b",
   "metadata": {
    "tags": []
   },
   "outputs": [],
   "source": [
    "from correo import Email"
   ]
  },
  {
   "cell_type": "code",
   "execution_count": 2,
   "id": "c4f2e970-0ad2-4780-a9bb-91a6d265860f",
   "metadata": {},
   "outputs": [],
   "source": [
    "def test():\n",
    "    # Testeamos los métodos con datos correctos e incorrectos\n",
    "    email1 = Email(\"alumnopoo\", \"gmail\", \"com\", \"clave123\")\n",
    "    print(email1.retorna_email()) # alumnopoo@gmail.com\n",
    "    print(email1.get_dominio()) # gmail\n",
    "\n",
    "    email2 = Email(\"wicc2023\", \"unsj-cuim\", \"edu\", \"clave456\")\n",
    "    email2.crear_cuenta(\"informatica.fcefn@gmail.com\")\n",
    "    print(email2.retorna_email()) # informatica.fcefn@gmail.com\n",
    "    print(email2.get_dominio()) # gmail\n",
    "\n",
    "def leer_emails_desde_archivo(nombre_archivo):\n",
    "    emails = []\n",
    "    with open(nombre_archivo, \"r\") as archivo:\n",
    "        for linea in archivo:\n",
    "            emails.append(linea.strip())\n",
    "    return emails\n",
    "\n",
    "def crear_cuentas(emails):\n",
    "    cuentas = []\n",
    "    for email in emails:\n",
    "        partes_email = email.split('@')\n",
    "        if len(partes_email) == 2:\n",
    "            id_cuenta, resto = partes_email\n",
    "            partes_dominio = resto.split('.')\n",
    "            if len(partes_dominio) == 2:\n",
    "                dominio, tipo_dominio = partes_dominio\n",
    "                cuenta = Email(id_cuenta, dominio, tipo_dominio, \"clave123\")\n",
    "                cuentas.append(cuenta)\n",
    "            else:\n",
    "                print(f\"Error: La dirección de correo '{email}' no es válida\")\n",
    "        else:\n",
    "            print(f\"Error: La dirección de correo '{email}' no es válida\")\n",
    "    return cuentas\n",
    "\n",
    "def contar_cuentas_con_dominio(cuentas, dominio_buscado):\n",
    "    contador = 0\n",
    "    for cuenta in cuentas:\n",
    "        if cuenta.get_dominio() == dominio_buscado:\n",
    "            contador += 1\n",
    "    return contador"
   ]
  },
  {
   "cell_type": "markdown",
   "id": "d0f3c674-d322-49dc-8dff-a4ae209b8bfe",
   "metadata": {},
   "source": [
    "### Ejecucion"
   ]
  },
  {
   "cell_type": "markdown",
   "id": "e6d4da43-41b6-4246-b026-e76415c3d03d",
   "metadata": {
    "tags": []
   },
   "source": [
    "##### 1. Ingresar el nombre de una persona.."
   ]
  },
  {
   "cell_type": "code",
   "execution_count": 3,
   "id": "62c549c2-9656-4360-88f6-2d636f880b9e",
   "metadata": {},
   "outputs": [
    {
     "name": "stdin",
     "output_type": "stream",
     "text": [
      "Ingrese el nombre:  Juan\n",
      "Ingrese el id de cuenta:  juancito\n",
      "Ingrese el dominio:  gmail\n",
      "Ingrese el tipo de dominio:  com\n",
      "Ingrese la contraseña:  roberto\n"
     ]
    }
   ],
   "source": [
    "nombre = input(\"Ingrese el nombre: \")\n",
    "id_cuenta = input(\"Ingrese el id de cuenta: \")\n",
    "dominio = input(\"Ingrese el dominio: \")\n",
    "tipo_dominio = input(\"Ingrese el tipo de dominio: \")\n",
    "contraseña = input(\"Ingrese la contraseña: \")"
   ]
  },
  {
   "cell_type": "code",
   "execution_count": 4,
   "id": "d72aa631-12ac-429e-827e-dca667d6e827",
   "metadata": {},
   "outputs": [
    {
     "name": "stdout",
     "output_type": "stream",
     "text": [
      "Estimado Juan te enviaremos tus mensajes a la dirección juancito@gmail.com.\n"
     ]
    }
   ],
   "source": [
    "email_persona = Email(id_cuenta, dominio, tipo_dominio, contraseña)\n",
    "print(f\"Estimado {nombre} te enviaremos tus mensajes a la dirección {email_persona.retorna_email()}.\")"
   ]
  },
  {
   "cell_type": "markdown",
   "id": "40fae601-21a2-4a3c-800a-82b89703507b",
   "metadata": {
    "tags": []
   },
   "source": [
    "##### 2. Para la instancia creada en el ítem anterior, modificar la contraseña"
   ]
  },
  {
   "cell_type": "code",
   "execution_count": 6,
   "id": "02ee5493-5bd3-4276-bdf0-43ffb3eb989c",
   "metadata": {},
   "outputs": [
    {
     "name": "stdin",
     "output_type": "stream",
     "text": [
      "Ingrese la contraseña actual:  roberto\n",
      "Ingrese la nueva contraseña:  robertito\n"
     ]
    },
    {
     "name": "stdout",
     "output_type": "stream",
     "text": [
      "Contraseña modificada con éxito.\n"
     ]
    }
   ],
   "source": [
    "contraseña_actual = input(\"Ingrese la contraseña actual: \")\n",
    "nueva_contraseña = input(\"Ingrese la nueva contraseña: \")\n",
    "\n",
    "if email_persona.cambiar_contraseña(contraseña_actual, nueva_contraseña):\n",
    "    print(\"Contraseña modificada con éxito.\")\n",
    "else:\n",
    "    print(\"Contraseña incorrecta\")"
   ]
  },
  {
   "cell_type": "markdown",
   "id": "a050eae7-a703-4303-a09f-1809d6102b2a",
   "metadata": {
    "tags": []
   },
   "source": [
    "##### 3. Crear un objeto de clase Email, a partir de una dirección de correo"
   ]
  },
  {
   "cell_type": "code",
   "execution_count": 9,
   "id": "75ba6b8c-2664-424e-8ef4-d540ca6548d5",
   "metadata": {
    "tags": []
   },
   "outputs": [],
   "source": [
    "cuenta = crear_cuentas(['gaston@negro.com'])[0]"
   ]
  },
  {
   "cell_type": "code",
   "execution_count": 11,
   "id": "1909d9d4-34d3-4dc0-8b10-17ac0fe48b80",
   "metadata": {
    "tags": []
   },
   "outputs": [
    {
     "data": {
      "text/plain": [
       "'negro'"
      ]
     },
     "execution_count": 11,
     "metadata": {},
     "output_type": "execute_result"
    }
   ],
   "source": [
    "cuenta.get_dominio()"
   ]
  },
  {
   "cell_type": "markdown",
   "id": "c76d0d1b-18f8-4f89-a48b-fe0f2b372406",
   "metadata": {
    "tags": []
   },
   "source": [
    "##### 4. Para la instancia creada en el ítem anterior, modificar la contraseña"
   ]
  },
  {
   "cell_type": "code",
   "execution_count": 15,
   "id": "f8ea2821-7b3f-4622-99d5-cefc08999744",
   "metadata": {
    "tags": []
   },
   "outputs": [
    {
     "name": "stdout",
     "output_type": "stream",
     "text": [
      "Error: La dirección de correo 'ana.ramirez@com' no es válida\n",
      "Error: La dirección de correo 'mario.rodriguez@com' no es válida\n"
     ]
    },
    {
     "name": "stdin",
     "output_type": "stream",
     "text": [
      "Ingrese un dominio:  gmail\n"
     ]
    },
    {
     "name": "stdout",
     "output_type": "stream",
     "text": [
      "Hay 2 cuentas con el dominio 'gmail'\n"
     ]
    }
   ],
   "source": [
    "# Ejercicio 4\n",
    "emails = leer_emails_desde_archivo(\"emails.txt\") # Asumiendo que el archivo se llama \"emails.txt\"\n",
    "cuentas = crear_cuentas(emails)\n",
    "\n",
    "dominio_buscado = input(\"Ingrese un dominio: \")\n",
    "cantidad = contar_cuentas_con_dominio(cuentas, dominio_buscado)\n",
    "print(f\"Hay {cantidad} cuentas con el dominio '{dominio_buscado}'\")\n"
   ]
  },
  {
   "cell_type": "code",
   "execution_count": null,
   "id": "765c2bfa-7058-4dcc-b412-368c4accdf0c",
   "metadata": {},
   "outputs": [],
   "source": []
  }
 ],
 "metadata": {
  "kernelspec": {
   "display_name": "Python 3 (ipykernel)",
   "language": "python",
   "name": "python3"
  },
  "language_info": {
   "codemirror_mode": {
    "name": "ipython",
    "version": 3
   },
   "file_extension": ".py",
   "mimetype": "text/x-python",
   "name": "python",
   "nbconvert_exporter": "python",
   "pygments_lexer": "ipython3",
   "version": "3.10.6"
  }
 },
 "nbformat": 4,
 "nbformat_minor": 5
}
